{
 "cells": [
  {
   "cell_type": "code",
   "execution_count": 102,
   "metadata": {
    "collapsed": true
   },
   "outputs": [],
   "source": [
    "from sklearn import cluster, datasets\n",
    "import pandas as pd\n",
    "import numpy as np\n",
    "import matplotlib.pyplot as plt\n",
    "%matplotlib inline"
   ]
  },
  {
   "cell_type": "code",
   "execution_count": 1,
   "metadata": {
    "collapsed": false
   },
   "outputs": [
    {
     "data": {
      "text/html": [
       "<div>\n",
       "<table border=\"1\" class=\"dataframe\">\n",
       "  <thead>\n",
       "    <tr style=\"text-align: right;\">\n",
       "      <th></th>\n",
       "      <th>sepal length (cm)</th>\n",
       "      <th>sepal width (cm)</th>\n",
       "      <th>petal length (cm)</th>\n",
       "      <th>petal width (cm)</th>\n",
       "      <th>Species</th>\n",
       "    </tr>\n",
       "  </thead>\n",
       "  <tbody>\n",
       "    <tr>\n",
       "      <th>0</th>\n",
       "      <td>5.1</td>\n",
       "      <td>3.5</td>\n",
       "      <td>1.4</td>\n",
       "      <td>0.2</td>\n",
       "      <td>setosa</td>\n",
       "    </tr>\n",
       "    <tr>\n",
       "      <th>1</th>\n",
       "      <td>4.9</td>\n",
       "      <td>3.0</td>\n",
       "      <td>1.4</td>\n",
       "      <td>0.2</td>\n",
       "      <td>setosa</td>\n",
       "    </tr>\n",
       "    <tr>\n",
       "      <th>2</th>\n",
       "      <td>4.7</td>\n",
       "      <td>3.2</td>\n",
       "      <td>1.3</td>\n",
       "      <td>0.2</td>\n",
       "      <td>setosa</td>\n",
       "    </tr>\n",
       "    <tr>\n",
       "      <th>3</th>\n",
       "      <td>4.6</td>\n",
       "      <td>3.1</td>\n",
       "      <td>1.5</td>\n",
       "      <td>0.2</td>\n",
       "      <td>setosa</td>\n",
       "    </tr>\n",
       "    <tr>\n",
       "      <th>4</th>\n",
       "      <td>5.0</td>\n",
       "      <td>3.6</td>\n",
       "      <td>1.4</td>\n",
       "      <td>0.2</td>\n",
       "      <td>setosa</td>\n",
       "    </tr>\n",
       "  </tbody>\n",
       "</table>\n",
       "</div>"
      ],
      "text/plain": [
       "   sepal length (cm)  sepal width (cm)  petal length (cm)  petal width (cm)  \\\n",
       "0                5.1               3.5                1.4               0.2   \n",
       "1                4.9               3.0                1.4               0.2   \n",
       "2                4.7               3.2                1.3               0.2   \n",
       "3                4.6               3.1                1.5               0.2   \n",
       "4                5.0               3.6                1.4               0.2   \n",
       "\n",
       "  Species  \n",
       "0  setosa  \n",
       "1  setosa  \n",
       "2  setosa  \n",
       "3  setosa  \n",
       "4  setosa  "
      ]
     },
     "execution_count": 1,
     "metadata": {},
     "output_type": "execute_result"
    }
   ],
   "source": [
    "iris = datasets.load_iris()\n",
    "X_iris = iris.data\n",
    "x_names = iris.feature_names\n",
    "Y_iris = iris.target\n",
    "y_name = iris.target_names\n",
    "iris_df = pd.DataFrame(X_iris, columns = x_names)\n",
    "iris_df['Species'] = Y_iris\n",
    "iris_df['Species'] = iris_df['Species'].replace([0,1,2], y_name)\n",
    "iris_df.head()"
   ]
  },
  {
   "cell_type": "markdown",
   "metadata": {},
   "source": [
    "# The index object"
   ]
  },
  {
   "cell_type": "code",
   "execution_count": 30,
   "metadata": {
    "collapsed": false
   },
   "outputs": [
    {
     "name": "stdout",
     "output_type": "stream",
     "text": [
      "Column index...\n",
      "Index([u'sepal length (cm)', u'sepal width (cm)', u'petal length (cm)',\n",
      "       u'petal width (cm)', u'Species'],\n",
      "      dtype='object')\n",
      "Row index...\n",
      "<class 'pandas.core.index.Int64Index'>\n",
      "Int64Index([  0,   1,   2,   3,   4,   5,   6,   7,   8,   9,\n",
      "            ...\n",
      "            140, 141, 142, 143, 144, 145, 146, 147, 148, 149],\n",
      "           dtype='int64', length=150)\n"
     ]
    }
   ],
   "source": [
    "print 'Column index...'\n",
    "print iris_df.columns\n",
    "print 'Row index...'\n",
    "idx = iris_df.index\n",
    "print type(idx)\n",
    "print idx"
   ]
  },
  {
   "cell_type": "code",
   "execution_count": 31,
   "metadata": {
    "collapsed": false
   },
   "outputs": [
    {
     "name": "stdout",
     "output_type": "stream",
     "text": [
      "Index attributes...\n",
      "True\n",
      "False\n",
      "1\n"
     ]
    }
   ],
   "source": [
    "print 'Index attributes...'\n",
    "print idx.is_monotonic_increasing\n",
    "print idx.has_duplicates\n",
    "# For multi-level indexes\n",
    "print idx.nlevels\n"
   ]
  },
  {
   "cell_type": "code",
   "execution_count": 32,
   "metadata": {
    "collapsed": false
   },
   "outputs": [
    {
     "name": "stdout",
     "output_type": "stream",
     "text": [
      "Index methods...\n",
      "[  0   1   2   3   4   5   6   7   8   9  10  11  12  13  14  15  16  17\n",
      "  18  19  20  21  22  23  24  25  26  27  28  29  30  31  32  33  34  35\n",
      "  36  37  38  39  40  41  42  43  44  45  46  47  48  49  50  51  52  53\n",
      "  54  55  56  57  58  59  60  61  62  63  64  65  66  67  68  69  70  71\n",
      "  72  73  74  75  76  77  78  79  80  81  82  83  84  85  86  87  88  89\n",
      "  90  91  92  93  94  95  96  97  98  99 100 101 102 103 104 105 106 107\n",
      " 108 109 110 111 112 113 114 115 116 117 118 119 120 121 122 123 124 125\n",
      " 126 127 128 129 130 131 132 133 134 135 136 137 138 139 140 141 142 143\n",
      " 144 145 146 147 148 149]\n",
      "[0, 1, 2, 3, 4, 5, 6, 7, 8, 9, 10, 11, 12, 13, 14, 15, 16, 17, 18, 19, 20, 21, 22, 23, 24, 25, 26, 27, 28, 29, 30, 31, 32, 33, 34, 35, 36, 37, 38, 39, 40, 41, 42, 43, 44, 45, 46, 47, 48, 49, 50, 51, 52, 53, 54, 55, 56, 57, 58, 59, 60, 61, 62, 63, 64, 65, 66, 67, 68, 69, 70, 71, 72, 73, 74, 75, 76, 77, 78, 79, 80, 81, 82, 83, 84, 85, 86, 87, 88, 89, 90, 91, 92, 93, 94, 95, 96, 97, 98, 99, 100, 101, 102, 103, 104, 105, 106, 107, 108, 109, 110, 111, 112, 113, 114, 115, 116, 117, 118, 119, 120, 121, 122, 123, 124, 125, 126, 127, 128, 129, 130, 131, 132, 133, 134, 135, 136, 137, 138, 139, 140, 141, 142, 143, 144, 145, 146, 147, 148, 149]\n",
      "Float64Index([  0.0,   1.0,   2.0,   3.0,   4.0,   5.0,   6.0,   7.0,   8.0,\n",
      "                9.0,\n",
      "              ...\n",
      "              140.0, 141.0, 142.0, 143.0, 144.0, 145.0, 146.0, 147.0, 148.0,\n",
      "              149.0],\n",
      "             dtype='float64', length=150)\n",
      "True\n",
      "Int64Index([  0,   1,   2,   3,   4,   5,   6,   7,   8,   9,\n",
      "            ...\n",
      "            140, 141, 142, 143, 144, 145, 146, 147, 148, 149],\n",
      "           dtype='int64', length=150)\n",
      "150\n",
      "0\n",
      "149\n"
     ]
    }
   ],
   "source": [
    "print 'Index methods...'\n",
    "print idx.values\n",
    "print idx.tolist()\n",
    "idx2 = idx.astype('float')\n",
    "print idx2\n",
    "print idx.equals(idx2)\n",
    "print idx.union(idx2)\n",
    "print idx.nunique()\n",
    "print idx.min()\n",
    "print idx.max()"
   ]
  },
  {
   "cell_type": "markdown",
   "metadata": {},
   "source": [
    "# Files"
   ]
  },
  {
   "cell_type": "code",
   "execution_count": 11,
   "metadata": {
    "collapsed": false
   },
   "outputs": [
    {
     "name": "stdout",
     "output_type": "stream",
     "text": [
      "Save data frame...\n",
      "Read data frame:\n"
     ]
    },
    {
     "data": {
      "text/html": [
       "<div>\n",
       "<table border=\"1\" class=\"dataframe\">\n",
       "  <thead>\n",
       "    <tr style=\"text-align: right;\">\n",
       "      <th></th>\n",
       "      <th>sepal length (cm)</th>\n",
       "      <th>sepal width (cm)</th>\n",
       "      <th>petal length (cm)</th>\n",
       "      <th>petal width (cm)</th>\n",
       "      <th>Species</th>\n",
       "    </tr>\n",
       "  </thead>\n",
       "  <tbody>\n",
       "    <tr>\n",
       "      <th>0</th>\n",
       "      <td>5.1</td>\n",
       "      <td>3.5</td>\n",
       "      <td>1.4</td>\n",
       "      <td>0.2</td>\n",
       "      <td>setosa</td>\n",
       "    </tr>\n",
       "    <tr>\n",
       "      <th>1</th>\n",
       "      <td>4.9</td>\n",
       "      <td>3.0</td>\n",
       "      <td>1.4</td>\n",
       "      <td>0.2</td>\n",
       "      <td>setosa</td>\n",
       "    </tr>\n",
       "    <tr>\n",
       "      <th>2</th>\n",
       "      <td>4.7</td>\n",
       "      <td>3.2</td>\n",
       "      <td>1.3</td>\n",
       "      <td>0.2</td>\n",
       "      <td>setosa</td>\n",
       "    </tr>\n",
       "    <tr>\n",
       "      <th>3</th>\n",
       "      <td>4.6</td>\n",
       "      <td>3.1</td>\n",
       "      <td>1.5</td>\n",
       "      <td>0.2</td>\n",
       "      <td>setosa</td>\n",
       "    </tr>\n",
       "    <tr>\n",
       "      <th>4</th>\n",
       "      <td>5.0</td>\n",
       "      <td>3.6</td>\n",
       "      <td>1.4</td>\n",
       "      <td>0.2</td>\n",
       "      <td>setosa</td>\n",
       "    </tr>\n",
       "  </tbody>\n",
       "</table>\n",
       "</div>"
      ],
      "text/plain": [
       "   sepal length (cm)  sepal width (cm)  petal length (cm)  petal width (cm)  \\\n",
       "0                5.1               3.5                1.4               0.2   \n",
       "1                4.9               3.0                1.4               0.2   \n",
       "2                4.7               3.2                1.3               0.2   \n",
       "3                4.6               3.1                1.5               0.2   \n",
       "4                5.0               3.6                1.4               0.2   \n",
       "\n",
       "  Species  \n",
       "0  setosa  \n",
       "1  setosa  \n",
       "2  setosa  \n",
       "3  setosa  \n",
       "4  setosa  "
      ]
     },
     "execution_count": 11,
     "metadata": {},
     "output_type": "execute_result"
    }
   ],
   "source": [
    "print 'Save data frame...'\n",
    "# to_excel\n",
    "# to_dict\n",
    "# to_string\n",
    "iris_df.to_csv('iris.csv', encoding = 'utf-8')\n",
    "print 'Read data frame...'\n",
    "# Other attributes for read_csv:\n",
    "# index_col = column number or column name. \n",
    "# header = row number or None: use # row as header or no header (default 0).\n",
    "# name = col_names: name column correctly\n",
    "# na_values = '-1' or {'sunspots':['-1'] or [a list of chr]}\n",
    "# parse_dates = [[0,1,2]] or ['Date'] column number or name\n",
    "# comment = '#'\n",
    "# delimiter = ''\n",
    "# sep = ' '\n",
    "df2 = pd.read_csv('iris.csv', header=0, index_col = 0)\n",
    "df2.head()"
   ]
  },
  {
   "cell_type": "markdown",
   "metadata": {},
   "source": [
    "# Create Dataframe from dictionary / np.array"
   ]
  },
  {
   "cell_type": "code",
   "execution_count": 16,
   "metadata": {
    "collapsed": false
   },
   "outputs": [
    {
     "name": "stdout",
     "output_type": "stream",
     "text": [
      "Create df from dictionary...\n",
      "   col0  col1\n",
      "0     1     2\n",
      "1     2     3\n",
      "2     3     4\n",
      "3     4     5\n"
     ]
    }
   ],
   "source": [
    "print 'Create df from dictionary...'\n",
    "df_dic = pd.DataFrame({\n",
    "        'col0': [1,2,3,4],\n",
    "        'col1': [2,3,4,5]\n",
    "    })\n",
    "print df_dic"
   ]
  },
  {
   "cell_type": "code",
   "execution_count": 17,
   "metadata": {
    "collapsed": false
   },
   "outputs": [
    {
     "name": "stdout",
     "output_type": "stream",
     "text": [
      "Create df from dictionary...\n",
      "      0  1  2  3\n",
      "row0  1  2  3  4\n",
      "row1  2  3  4  5\n"
     ]
    }
   ],
   "source": [
    "print 'Create df from dictionary...'\n",
    "df_dic = pd.DataFrame.from_dict({\n",
    "        'row0': [1,2,3,4],\n",
    "        'row1': [2,3,4,5]\n",
    "    }, orient='index')\n",
    "print df_dic"
   ]
  },
  {
   "cell_type": "code",
   "execution_count": 19,
   "metadata": {
    "collapsed": false
   },
   "outputs": [
    {
     "name": "stdout",
     "output_type": "stream",
     "text": [
      "Create df from dictionary...\n",
      "   col0  col1\n",
      "0     1     2\n",
      "1     2     3\n",
      "2     3     4\n",
      "3     4     5\n"
     ]
    }
   ],
   "source": [
    "# default: orient = 'columns'\n",
    "print 'Create df from dictionary...'\n",
    "df_dic = pd.DataFrame.from_dict({\n",
    "        'col0': [1,2,3,4],\n",
    "        'col1': [2,3,4,5]\n",
    "    })\n",
    "print df_dic"
   ]
  },
  {
   "cell_type": "code",
   "execution_count": 37,
   "metadata": {
    "collapsed": false
   },
   "outputs": [
    {
     "data": {
      "text/html": [
       "<div>\n",
       "<table border=\"1\" class=\"dataframe\">\n",
       "  <thead>\n",
       "    <tr style=\"text-align: right;\">\n",
       "      <th></th>\n",
       "      <th>0</th>\n",
       "      <th>1</th>\n",
       "      <th>2</th>\n",
       "      <th>3</th>\n",
       "      <th>4</th>\n",
       "    </tr>\n",
       "  </thead>\n",
       "  <tbody>\n",
       "    <tr>\n",
       "      <th>2016-01-31</th>\n",
       "      <td>0.707473</td>\n",
       "      <td>0.101674</td>\n",
       "      <td>0.718231</td>\n",
       "      <td>0.374559</td>\n",
       "      <td>0.476042</td>\n",
       "    </tr>\n",
       "    <tr>\n",
       "      <th>2016-02-29</th>\n",
       "      <td>0.185294</td>\n",
       "      <td>0.835964</td>\n",
       "      <td>0.100977</td>\n",
       "      <td>0.412251</td>\n",
       "      <td>0.368993</td>\n",
       "    </tr>\n",
       "    <tr>\n",
       "      <th>2016-03-31</th>\n",
       "      <td>0.788530</td>\n",
       "      <td>0.712081</td>\n",
       "      <td>0.953907</td>\n",
       "      <td>0.178514</td>\n",
       "      <td>0.677294</td>\n",
       "    </tr>\n",
       "    <tr>\n",
       "      <th>2016-04-30</th>\n",
       "      <td>0.975851</td>\n",
       "      <td>0.794700</td>\n",
       "      <td>0.279122</td>\n",
       "      <td>0.701959</td>\n",
       "      <td>0.528510</td>\n",
       "    </tr>\n",
       "    <tr>\n",
       "      <th>2016-05-31</th>\n",
       "      <td>0.961776</td>\n",
       "      <td>0.997502</td>\n",
       "      <td>0.779791</td>\n",
       "      <td>0.398182</td>\n",
       "      <td>0.711413</td>\n",
       "    </tr>\n",
       "  </tbody>\n",
       "</table>\n",
       "</div>"
      ],
      "text/plain": [
       "                   0         1         2         3         4\n",
       "2016-01-31  0.707473  0.101674  0.718231  0.374559  0.476042\n",
       "2016-02-29  0.185294  0.835964  0.100977  0.412251  0.368993\n",
       "2016-03-31  0.788530  0.712081  0.953907  0.178514  0.677294\n",
       "2016-04-30  0.975851  0.794700  0.279122  0.701959  0.528510\n",
       "2016-05-31  0.961776  0.997502  0.779791  0.398182  0.711413"
      ]
     },
     "execution_count": 37,
     "metadata": {},
     "output_type": "execute_result"
    }
   ],
   "source": [
    "df_date = pd.DataFrame(np.random.rand(50,5))\n",
    "df_date.index = pd.date_range('1/1/2016', periods = len(df_date), freq='M')\n",
    "df_date.head()"
   ]
  },
  {
   "cell_type": "code",
   "execution_count": 41,
   "metadata": {
    "collapsed": false
   },
   "outputs": [
    {
     "data": {
      "text/html": [
       "<div>\n",
       "<table border=\"1\" class=\"dataframe\">\n",
       "  <thead>\n",
       "    <tr style=\"text-align: right;\">\n",
       "      <th></th>\n",
       "      <th>col0</th>\n",
       "      <th>col1</th>\n",
       "      <th>col2</th>\n",
       "      <th>col3</th>\n",
       "      <th>col4</th>\n",
       "      <th>group</th>\n",
       "    </tr>\n",
       "  </thead>\n",
       "  <tbody>\n",
       "    <tr>\n",
       "      <th>A</th>\n",
       "      <td>-0.897342</td>\n",
       "      <td>-0.130982</td>\n",
       "      <td>-0.553850</td>\n",
       "      <td>0.454620</td>\n",
       "      <td>0.191601</td>\n",
       "      <td>d</td>\n",
       "    </tr>\n",
       "    <tr>\n",
       "      <th>B</th>\n",
       "      <td>-0.887268</td>\n",
       "      <td>0.704123</td>\n",
       "      <td>0.041988</td>\n",
       "      <td>0.372548</td>\n",
       "      <td>-0.954661</td>\n",
       "      <td>a</td>\n",
       "    </tr>\n",
       "    <tr>\n",
       "      <th>C</th>\n",
       "      <td>1.009183</td>\n",
       "      <td>0.886417</td>\n",
       "      <td>1.083065</td>\n",
       "      <td>0.230405</td>\n",
       "      <td>-0.286585</td>\n",
       "      <td>a</td>\n",
       "    </tr>\n",
       "    <tr>\n",
       "      <th>D</th>\n",
       "      <td>1.680157</td>\n",
       "      <td>0.282140</td>\n",
       "      <td>1.186019</td>\n",
       "      <td>0.140942</td>\n",
       "      <td>-0.426871</td>\n",
       "      <td>b</td>\n",
       "    </tr>\n",
       "    <tr>\n",
       "      <th>E</th>\n",
       "      <td>-0.288367</td>\n",
       "      <td>-0.162281</td>\n",
       "      <td>1.690019</td>\n",
       "      <td>-1.031286</td>\n",
       "      <td>-1.136742</td>\n",
       "      <td>b</td>\n",
       "    </tr>\n",
       "  </tbody>\n",
       "</table>\n",
       "</div>"
      ],
      "text/plain": [
       "       col0      col1      col2      col3      col4 group\n",
       "A -0.897342 -0.130982 -0.553850  0.454620  0.191601     d\n",
       "B -0.887268  0.704123  0.041988  0.372548 -0.954661     a\n",
       "C  1.009183  0.886417  1.083065  0.230405 -0.286585     a\n",
       "D  1.680157  0.282140  1.186019  0.140942 -0.426871     b\n",
       "E -0.288367 -0.162281  1.690019 -1.031286 -1.136742     b"
      ]
     },
     "execution_count": 41,
     "metadata": {},
     "output_type": "execute_result"
    }
   ],
   "source": [
    "import string\n",
    "import random\n",
    "r = 52\n",
    "c = 5\n",
    "df = pd.DataFrame(np.random.randn(r,c), \n",
    "                 columns = ['col' + str(i) for i in range(c)],\n",
    "                 index = list((string.uppercase + string.lowercase)[0:r]))\n",
    "df['group'] = [random.choice('abcd') for _ in range(r)]\n",
    "df.head()"
   ]
  },
  {
   "cell_type": "markdown",
   "metadata": {},
   "source": [
    "# Peek at the DataFrame contents"
   ]
  },
  {
   "cell_type": "code",
   "execution_count": 43,
   "metadata": {
    "collapsed": false
   },
   "outputs": [
    {
     "name": "stdout",
     "output_type": "stream",
     "text": [
      "<class 'pandas.core.frame.DataFrame'>\n",
      "Int64Index: 150 entries, 0 to 149\n",
      "Data columns (total 5 columns):\n",
      "sepal length (cm)    150 non-null float64\n",
      "sepal width (cm)     150 non-null float64\n",
      "petal length (cm)    150 non-null float64\n",
      "petal width (cm)     150 non-null float64\n",
      "Species              150 non-null object\n",
      "dtypes: float64(4), object(1)\n",
      "memory usage: 7.0+ KB\n",
      "None\n",
      "       sepal length (cm)  sepal width (cm)  petal length (cm)  \\\n",
      "count         150.000000        150.000000         150.000000   \n",
      "mean            5.843333          3.054000           3.758667   \n",
      "std             0.828066          0.433594           1.764420   \n",
      "min             4.300000          2.000000           1.000000   \n",
      "25%             5.100000          2.800000           1.600000   \n",
      "50%             5.800000          3.000000           4.350000   \n",
      "75%             6.400000          3.300000           5.100000   \n",
      "max             7.900000          4.400000           6.900000   \n",
      "\n",
      "       petal width (cm)  \n",
      "count        150.000000  \n",
      "mean           1.198667  \n",
      "std            0.763161  \n",
      "min            0.100000  \n",
      "25%            0.300000  \n",
      "50%            1.300000  \n",
      "75%            1.800000  \n",
      "max            2.500000  \n"
     ]
    }
   ],
   "source": [
    "print iris_df.info()\n",
    "#print iris_df.head(5)\n",
    "#print iris_df.tail(5)\n",
    "print iris_df.describe()\n"
   ]
  },
  {
   "cell_type": "code",
   "execution_count": 44,
   "metadata": {
    "collapsed": false
   },
   "outputs": [
    {
     "name": "stdout",
     "output_type": "stream",
     "text": [
      "             A         B         C         D         E         F         G  \\\n",
      "col0 -0.897342 -0.887268   1.00918   1.68016 -0.288367  0.242845  0.828408   \n",
      "col1 -0.130982  0.704123  0.886417   0.28214 -0.162281  0.364548  0.825639   \n",
      "col2  -0.55385  0.041988   1.08306   1.18602   1.69002 -0.952108  -1.04059   \n",
      "col3   0.45462  0.372548  0.230405  0.140942  -1.03129  0.862226   1.38505   \n",
      "col4  0.191601 -0.954661 -0.286585 -0.426871  -1.13674   2.34953 -0.344543   \n",
      "\n",
      "             H         I         J    ...            q         r          s  \\\n",
      "col0   2.78204 -0.124595  0.697964    ...    -0.155467 -0.373472  -0.999459   \n",
      "col1  0.981642  -1.24923 -0.254331    ...    -0.263345 -0.613641    1.34432   \n",
      "col2 -0.224609   1.32252  0.566926    ...     -1.53845  0.619175  0.0540382   \n",
      "col3  0.560458 -0.528959 -0.797624    ...     -2.37161   1.77454   -1.93252   \n",
      "col4  -1.93159  -1.30133  -1.77269    ...    -0.630897   1.28628  -0.174725   \n",
      "\n",
      "             t          u         v         w         x          y         z  \n",
      "col0 -0.486265   0.456137 -0.751877  0.718026  -2.21333  -0.562151  -0.95674  \n",
      "col1  0.166292  -0.203383  -1.14456  0.437877   1.45471  -0.725919   1.12911  \n",
      "col2 -0.176164   0.251711  0.612426 -0.365332 -0.141441   0.132294  0.897912  \n",
      "col3  -0.32732  0.0850103    1.5144  0.168729  0.457474 -0.0597359   0.79305  \n",
      "col4  0.285076   -2.65035 -0.481032  0.415544   1.14889   -1.26279 -0.338639  \n",
      "\n",
      "[5 rows x 52 columns]\n"
     ]
    }
   ],
   "source": [
    "#transpose\n",
    "dfT = df.T\n",
    "print dfT.head()"
   ]
  },
  {
   "cell_type": "code",
   "execution_count": 48,
   "metadata": {
    "collapsed": false
   },
   "outputs": [
    {
     "name": "stdout",
     "output_type": "stream",
     "text": [
      "Index([u'A', u'B', u'C', u'D', u'E', u'F', u'G', u'H', u'I', u'J', u'K', u'L',\n",
      "       u'M', u'N', u'O', u'P', u'Q', u'R', u'S', u'T', u'U', u'V', u'W', u'X',\n",
      "       u'Y', u'Z', u'a', u'b', u'c', u'd', u'e', u'f', u'g', u'h', u'i', u'j',\n",
      "       u'k', u'l', u'm', u'n', u'o', u'p', u'q', u'r', u's', u't', u'u', u'v',\n",
      "       u'w', u'x', u'y', u'z'],\n",
      "      dtype='object')\n",
      "Index([u'A', u'B', u'C', u'D', u'E', u'F', u'G', u'H', u'I', u'J', u'K', u'L',\n",
      "       u'M', u'N', u'O', u'P', u'Q', u'R', u'S', u'T', u'U', u'V', u'W', u'X',\n",
      "       u'Y', u'Z', u'a', u'b', u'c', u'd', u'e', u'f', u'g', u'h', u'i', u'j',\n",
      "       u'k', u'l', u'm', u'n', u'o', u'p', u'q', u'r', u's', u't', u'u', u'v',\n",
      "       u'w', u'x', u'y', u'z'],\n",
      "      dtype='object')\n",
      "Index([u'col0', u'col1', u'col2', u'col3', u'col4', u'group'], dtype='object')\n",
      "Index([u'col0', u'col1', u'col2', u'col3', u'col4', u'group'], dtype='object')\n"
     ]
    }
   ],
   "source": [
    "# list row and col index\n",
    "r, c = df.axes\n",
    "print r\n",
    "print df.index\n",
    "print c\n",
    "print df.columns"
   ]
  },
  {
   "cell_type": "code",
   "execution_count": 49,
   "metadata": {
    "collapsed": false
   },
   "outputs": [
    {
     "name": "stdout",
     "output_type": "stream",
     "text": [
      "sepal length (cm)    float64\n",
      "sepal width (cm)     float64\n",
      "petal length (cm)    float64\n",
      "petal width (cm)     float64\n",
      "Species               object\n",
      "dtype: object\n"
     ]
    }
   ],
   "source": [
    "print iris_df.dtypes"
   ]
  },
  {
   "cell_type": "code",
   "execution_count": 51,
   "metadata": {
    "collapsed": false
   },
   "outputs": [
    {
     "name": "stdout",
     "output_type": "stream",
     "text": [
      "False\n",
      "2\n",
      "52 6\n",
      "312\n"
     ]
    }
   ],
   "source": [
    "# True for empty dataframe\n",
    "print df.empty\n",
    "print df.ndim\n",
    "r, c = df.shape\n",
    "print r, c\n",
    "print df.size\n",
    "# get a numpy array\n",
    "# print df.values\n"
   ]
  },
  {
   "cell_type": "code",
   "execution_count": 71,
   "metadata": {
    "collapsed": false
   },
   "outputs": [
    {
     "name": "stdout",
     "output_type": "stream",
     "text": [
      "   col0  col1  col2  col3  col4  group\n",
      "A     9    24    16    28    38   46.0\n",
      "B    10    39    30    26    15    7.0\n",
      "C    45    42    43    22    31    7.0\n",
      "D    50    30    46    20    23   20.5\n",
      "E    22    23    51     7    13   20.5\n"
     ]
    }
   ],
   "source": [
    "dfc = df.copy()\n",
    "#default rank col\n",
    "dfr = df.rank()\n",
    "print dfr.head()"
   ]
  },
  {
   "cell_type": "code",
   "execution_count": 67,
   "metadata": {
    "collapsed": false
   },
   "outputs": [
    {
     "data": {
      "text/html": [
       "<div>\n",
       "<table border=\"1\" class=\"dataframe\">\n",
       "  <thead>\n",
       "    <tr style=\"text-align: right;\">\n",
       "      <th></th>\n",
       "      <th>col0</th>\n",
       "      <th>col1</th>\n",
       "      <th>col2</th>\n",
       "      <th>col3</th>\n",
       "      <th>col4</th>\n",
       "      <th>group</th>\n",
       "    </tr>\n",
       "  </thead>\n",
       "  <tbody>\n",
       "    <tr>\n",
       "      <th>H</th>\n",
       "      <td>2.782035</td>\n",
       "      <td>0.981642</td>\n",
       "      <td>-0.224609</td>\n",
       "      <td>0.560458</td>\n",
       "      <td>-1.931592</td>\n",
       "      <td>c</td>\n",
       "    </tr>\n",
       "    <tr>\n",
       "      <th>d</th>\n",
       "      <td>2.442058</td>\n",
       "      <td>-1.783542</td>\n",
       "      <td>-1.331140</td>\n",
       "      <td>1.430941</td>\n",
       "      <td>-2.185966</td>\n",
       "      <td>b</td>\n",
       "    </tr>\n",
       "    <tr>\n",
       "      <th>D</th>\n",
       "      <td>1.680157</td>\n",
       "      <td>0.282140</td>\n",
       "      <td>1.186019</td>\n",
       "      <td>0.140942</td>\n",
       "      <td>-0.426871</td>\n",
       "      <td>b</td>\n",
       "    </tr>\n",
       "    <tr>\n",
       "      <th>f</th>\n",
       "      <td>1.661107</td>\n",
       "      <td>0.399003</td>\n",
       "      <td>-0.028384</td>\n",
       "      <td>0.696649</td>\n",
       "      <td>-0.306025</td>\n",
       "      <td>a</td>\n",
       "    </tr>\n",
       "    <tr>\n",
       "      <th>p</th>\n",
       "      <td>1.491516</td>\n",
       "      <td>-0.496736</td>\n",
       "      <td>-1.753487</td>\n",
       "      <td>-1.999156</td>\n",
       "      <td>1.827681</td>\n",
       "      <td>b</td>\n",
       "    </tr>\n",
       "  </tbody>\n",
       "</table>\n",
       "</div>"
      ],
      "text/plain": [
       "       col0      col1      col2      col3      col4 group\n",
       "H  2.782035  0.981642 -0.224609  0.560458 -1.931592     c\n",
       "d  2.442058 -1.783542 -1.331140  1.430941 -2.185966     b\n",
       "D  1.680157  0.282140  1.186019  0.140942 -0.426871     b\n",
       "f  1.661107  0.399003 -0.028384  0.696649 -0.306025     a\n",
       "p  1.491516 -0.496736 -1.753487 -1.999156  1.827681     b"
      ]
     },
     "execution_count": 67,
     "metadata": {},
     "output_type": "execute_result"
    }
   ],
   "source": [
    "dfs = df.sort_values('col0', ascending  = False)\n",
    "dfs.head()"
   ]
  },
  {
   "cell_type": "code",
   "execution_count": 68,
   "metadata": {
    "collapsed": false
   },
   "outputs": [
    {
     "data": {
      "text/html": [
       "<div>\n",
       "<table border=\"1\" class=\"dataframe\">\n",
       "  <thead>\n",
       "    <tr style=\"text-align: right;\">\n",
       "      <th></th>\n",
       "      <th>col0</th>\n",
       "      <th>col1</th>\n",
       "      <th>col2</th>\n",
       "      <th>col3</th>\n",
       "      <th>col4</th>\n",
       "      <th>group</th>\n",
       "    </tr>\n",
       "  </thead>\n",
       "  <tbody>\n",
       "    <tr>\n",
       "      <th>A</th>\n",
       "      <td>-0.897342</td>\n",
       "      <td>-0.130982</td>\n",
       "      <td>-0.553850</td>\n",
       "      <td>0.454620</td>\n",
       "      <td>0.191601</td>\n",
       "      <td>d</td>\n",
       "    </tr>\n",
       "    <tr>\n",
       "      <th>B</th>\n",
       "      <td>-0.887268</td>\n",
       "      <td>0.704123</td>\n",
       "      <td>0.041988</td>\n",
       "      <td>0.372548</td>\n",
       "      <td>-0.954661</td>\n",
       "      <td>a</td>\n",
       "    </tr>\n",
       "    <tr>\n",
       "      <th>C</th>\n",
       "      <td>1.009183</td>\n",
       "      <td>0.886417</td>\n",
       "      <td>1.083065</td>\n",
       "      <td>0.230405</td>\n",
       "      <td>-0.286585</td>\n",
       "      <td>a</td>\n",
       "    </tr>\n",
       "    <tr>\n",
       "      <th>D</th>\n",
       "      <td>1.680157</td>\n",
       "      <td>0.282140</td>\n",
       "      <td>1.186019</td>\n",
       "      <td>0.140942</td>\n",
       "      <td>-0.426871</td>\n",
       "      <td>b</td>\n",
       "    </tr>\n",
       "    <tr>\n",
       "      <th>E</th>\n",
       "      <td>-0.288367</td>\n",
       "      <td>-0.162281</td>\n",
       "      <td>1.690019</td>\n",
       "      <td>-1.031286</td>\n",
       "      <td>-1.136742</td>\n",
       "      <td>b</td>\n",
       "    </tr>\n",
       "  </tbody>\n",
       "</table>\n",
       "</div>"
      ],
      "text/plain": [
       "       col0      col1      col2      col3      col4 group\n",
       "A -0.897342 -0.130982 -0.553850  0.454620  0.191601     d\n",
       "B -0.887268  0.704123  0.041988  0.372548 -0.954661     a\n",
       "C  1.009183  0.886417  1.083065  0.230405 -0.286585     a\n",
       "D  1.680157  0.282140  1.186019  0.140942 -0.426871     b\n",
       "E -0.288367 -0.162281  1.690019 -1.031286 -1.136742     b"
      ]
     },
     "execution_count": 68,
     "metadata": {},
     "output_type": "execute_result"
    }
   ],
   "source": [
    "dfs = dfs.sort_index()\n",
    "dfs.head()"
   ]
  },
  {
   "cell_type": "code",
   "execution_count": 79,
   "metadata": {
    "collapsed": false
   },
   "outputs": [
    {
     "data": {
      "text/html": [
       "<div>\n",
       "<table border=\"1\" class=\"dataframe\">\n",
       "  <thead>\n",
       "    <tr style=\"text-align: right;\">\n",
       "      <th></th>\n",
       "      <th>col0</th>\n",
       "      <th>col1</th>\n",
       "      <th>col2</th>\n",
       "      <th>col3</th>\n",
       "      <th>col4</th>\n",
       "    </tr>\n",
       "  </thead>\n",
       "  <tbody>\n",
       "    <tr>\n",
       "      <th>A</th>\n",
       "      <td>0</td>\n",
       "      <td>0</td>\n",
       "      <td>0</td>\n",
       "      <td>0</td>\n",
       "      <td>0</td>\n",
       "    </tr>\n",
       "    <tr>\n",
       "      <th>B</th>\n",
       "      <td>0</td>\n",
       "      <td>0</td>\n",
       "      <td>0</td>\n",
       "      <td>0</td>\n",
       "      <td>0</td>\n",
       "    </tr>\n",
       "    <tr>\n",
       "      <th>C</th>\n",
       "      <td>1</td>\n",
       "      <td>0</td>\n",
       "      <td>1</td>\n",
       "      <td>0</td>\n",
       "      <td>0</td>\n",
       "    </tr>\n",
       "    <tr>\n",
       "      <th>D</th>\n",
       "      <td>1</td>\n",
       "      <td>0</td>\n",
       "      <td>1</td>\n",
       "      <td>0</td>\n",
       "      <td>0</td>\n",
       "    </tr>\n",
       "    <tr>\n",
       "      <th>E</th>\n",
       "      <td>0</td>\n",
       "      <td>0</td>\n",
       "      <td>1</td>\n",
       "      <td>-1</td>\n",
       "      <td>-1</td>\n",
       "    </tr>\n",
       "  </tbody>\n",
       "</table>\n",
       "</div>"
      ],
      "text/plain": [
       "   col0  col1  col2  col3  col4\n",
       "A     0     0     0     0     0\n",
       "B     0     0     0     0     0\n",
       "C     1     0     1     0     0\n",
       "D     1     0     1     0     0\n",
       "E     0     0     1    -1    -1"
      ]
     },
     "execution_count": 79,
     "metadata": {},
     "output_type": "execute_result"
    }
   ],
   "source": [
    "df = df.drop('group', axis = 1)\n",
    "dfc = df.astype(int)\n",
    "dfc.head()"
   ]
  },
  {
   "cell_type": "code",
   "execution_count": 74,
   "metadata": {
    "collapsed": false
   },
   "outputs": [
    {
     "name": "stdout",
     "output_type": "stream",
     "text": [
      "Col name: col0\n",
      "First value:-0.897341613867\n",
      "Col name: col1\n",
      "First value:-0.1309823005\n",
      "Col name: col2\n",
      "First value:-0.55385036971\n",
      "Col name: col3\n",
      "First value:0.454619969772\n",
      "Col name: col4\n",
      "First value:0.191601129656\n",
      "Col name: group\n",
      "First value:d\n"
     ]
    }
   ],
   "source": [
    "#df.iteritems() #(col-index, series) pairs\n",
    "#df.iterrows() #(row-index, series) pairs\n",
    "for (name, series) in df.iteritems():\n",
    "    print 'Col name: ' + str(name)\n",
    "    print 'First value:' + str(series[0])"
   ]
  },
  {
   "cell_type": "code",
   "execution_count": 80,
   "metadata": {
    "collapsed": false
   },
   "outputs": [
    {
     "name": "stdout",
     "output_type": "stream",
     "text": [
      "       col0      col1      col2      col3      col4\n",
      "A  0.897342  0.130982  0.553850  0.454620  0.191601\n",
      "B  0.887268  0.704123  0.041988  0.372548  0.954661\n",
      "C  1.009183  0.886417  1.083065  0.230405  0.286585\n",
      "D  1.680157  0.282140  1.186019  0.140942  0.426871\n",
      "E  0.288367  0.162281  1.690019  1.031286  1.136742\n"
     ]
    }
   ],
   "source": [
    "dfa = df.abs()\n",
    "print dfa.head()"
   ]
  },
  {
   "cell_type": "code",
   "execution_count": 83,
   "metadata": {
    "collapsed": false
   },
   "outputs": [
    {
     "data": {
      "text/html": [
       "<div>\n",
       "<table border=\"1\" class=\"dataframe\">\n",
       "  <thead>\n",
       "    <tr style=\"text-align: right;\">\n",
       "      <th></th>\n",
       "      <th>col0</th>\n",
       "      <th>col1</th>\n",
       "      <th>col2</th>\n",
       "      <th>col3</th>\n",
       "      <th>col4</th>\n",
       "    </tr>\n",
       "  </thead>\n",
       "  <tbody>\n",
       "    <tr>\n",
       "      <th>A</th>\n",
       "      <td>-0.539067</td>\n",
       "      <td>-1.612461</td>\n",
       "      <td>-1.690238</td>\n",
       "      <td>-0.239641</td>\n",
       "      <td>0.108146</td>\n",
       "    </tr>\n",
       "    <tr>\n",
       "      <th>B</th>\n",
       "      <td>-0.483197</td>\n",
       "      <td>0.462051</td>\n",
       "      <td>1.090201</td>\n",
       "      <td>1.928256</td>\n",
       "      <td>1.839782</td>\n",
       "    </tr>\n",
       "    <tr>\n",
       "      <th>C</th>\n",
       "      <td>1.702771</td>\n",
       "      <td>0.870905</td>\n",
       "      <td>1.337896</td>\n",
       "      <td>1.144191</td>\n",
       "      <td>0.144549</td>\n",
       "    </tr>\n",
       "    <tr>\n",
       "      <th>D</th>\n",
       "      <td>1.274810</td>\n",
       "      <td>-0.310470</td>\n",
       "      <td>0.609563</td>\n",
       "      <td>-0.920702</td>\n",
       "      <td>-0.246506</td>\n",
       "    </tr>\n",
       "    <tr>\n",
       "      <th>E</th>\n",
       "      <td>-1.466856</td>\n",
       "      <td>-0.151282</td>\n",
       "      <td>-0.040463</td>\n",
       "      <td>-2.283597</td>\n",
       "      <td>-1.554717</td>\n",
       "    </tr>\n",
       "  </tbody>\n",
       "</table>\n",
       "</div>"
      ],
      "text/plain": [
       "       col0      col1      col2      col3      col4\n",
       "A -0.539067 -1.612461 -1.690238 -0.239641  0.108146\n",
       "B -0.483197  0.462051  1.090201  1.928256  1.839782\n",
       "C  1.702771  0.870905  1.337896  1.144191  0.144549\n",
       "D  1.274810 -0.310470  0.609563 -0.920702 -0.246506\n",
       "E -1.466856 -0.151282 -0.040463 -2.283597 -1.554717"
      ]
     },
     "execution_count": 83,
     "metadata": {},
     "output_type": "execute_result"
    }
   ],
   "source": [
    "df2 = np.random.randn(r, c-1)\n",
    "dfa = df.add(df2)\n",
    "dfa.head()"
   ]
  },
  {
   "cell_type": "code",
   "execution_count": 84,
   "metadata": {
    "collapsed": false
   },
   "outputs": [
    {
     "name": "stdout",
     "output_type": "stream",
     "text": [
      "col0    52\n",
      "col1    52\n",
      "col2    52\n",
      "col3    52\n",
      "col4    52\n",
      "dtype: int64\n"
     ]
    }
   ],
   "source": [
    "# non NA/null values\n",
    "print df.count()"
   ]
  },
  {
   "cell_type": "code",
   "execution_count": 88,
   "metadata": {
    "collapsed": false
   },
   "outputs": [
    {
     "data": {
      "text/html": [
       "<div>\n",
       "<table border=\"1\" class=\"dataframe\">\n",
       "  <thead>\n",
       "    <tr style=\"text-align: right;\">\n",
       "      <th></th>\n",
       "      <th>col0</th>\n",
       "      <th>col1</th>\n",
       "      <th>col2</th>\n",
       "      <th>col3</th>\n",
       "      <th>col4</th>\n",
       "    </tr>\n",
       "  </thead>\n",
       "  <tbody>\n",
       "    <tr>\n",
       "      <th>A</th>\n",
       "      <td>-0.897342</td>\n",
       "      <td>-0.130982</td>\n",
       "      <td>-0.553850</td>\n",
       "      <td>0.454620</td>\n",
       "      <td>0.191601</td>\n",
       "    </tr>\n",
       "    <tr>\n",
       "      <th>B</th>\n",
       "      <td>0.796182</td>\n",
       "      <td>-0.092228</td>\n",
       "      <td>-0.023255</td>\n",
       "      <td>0.169368</td>\n",
       "      <td>-0.182914</td>\n",
       "    </tr>\n",
       "    <tr>\n",
       "      <th>C</th>\n",
       "      <td>0.803493</td>\n",
       "      <td>-0.081752</td>\n",
       "      <td>-0.025187</td>\n",
       "      <td>0.039023</td>\n",
       "      <td>0.052421</td>\n",
       "    </tr>\n",
       "    <tr>\n",
       "      <th>D</th>\n",
       "      <td>1.349995</td>\n",
       "      <td>-0.023066</td>\n",
       "      <td>-0.029872</td>\n",
       "      <td>0.005500</td>\n",
       "      <td>-0.022377</td>\n",
       "    </tr>\n",
       "    <tr>\n",
       "      <th>E</th>\n",
       "      <td>-0.389294</td>\n",
       "      <td>0.003743</td>\n",
       "      <td>-0.050484</td>\n",
       "      <td>-0.005672</td>\n",
       "      <td>0.025437</td>\n",
       "    </tr>\n",
       "  </tbody>\n",
       "</table>\n",
       "</div>"
      ],
      "text/plain": [
       "       col0      col1      col2      col3      col4\n",
       "A -0.897342 -0.130982 -0.553850  0.454620  0.191601\n",
       "B  0.796182 -0.092228 -0.023255  0.169368 -0.182914\n",
       "C  0.803493 -0.081752 -0.025187  0.039023  0.052421\n",
       "D  1.349995 -0.023066 -0.029872  0.005500 -0.022377\n",
       "E -0.389294  0.003743 -0.050484 -0.005672  0.025437"
      ]
     },
     "execution_count": 88,
     "metadata": {},
     "output_type": "execute_result"
    }
   ],
   "source": [
    "# default col axis\n",
    "dfc = df.cummax()\n",
    "dfc.tail()\n",
    "# df.cummin()\n",
    "# df.cumsum()\n",
    "# df.cumprod()\n",
    "dfp = df.cumprod()\n",
    "dfp.head()"
   ]
  },
  {
   "cell_type": "code",
   "execution_count": 97,
   "metadata": {
    "collapsed": false
   },
   "outputs": [
    {
     "name": "stdout",
     "output_type": "stream",
     "text": [
      "       col0      col1      col2      col3      col4\n",
      "A -0.897342 -0.130982 -0.553850  0.454620  0.191601\n",
      "B -0.887268  0.704123  0.041988  0.372548 -0.954661\n",
      "C  1.009183  0.886417  1.083065  0.230405 -0.286585\n",
      "D  1.680157  0.282140  1.186019  0.140942 -0.426871\n",
      "E -0.288367 -0.162281  1.690019 -1.031286 -1.136742\n",
      "       col0      col1      col2      col3      col4\n",
      "A       NaN       NaN       NaN       NaN       NaN\n",
      "B  0.010074  0.835106  0.595838 -0.082072 -1.146263\n",
      "C  1.896450  0.182293  1.041077 -0.142142  0.668076\n",
      "D  0.670975 -0.604277  0.102955 -0.089464 -0.140286\n",
      "E -1.968525 -0.444421  0.504000 -1.172228 -0.709871\n"
     ]
    }
   ],
   "source": [
    "# First diff, default col\n",
    "print df.head()\n",
    "dfd = df.diff()\n",
    "print dfd.head()"
   ]
  },
  {
   "cell_type": "code",
   "execution_count": 98,
   "metadata": {
    "collapsed": false
   },
   "outputs": [
    {
     "data": {
      "text/html": [
       "<div>\n",
       "<table border=\"1\" class=\"dataframe\">\n",
       "  <thead>\n",
       "    <tr style=\"text-align: right;\">\n",
       "      <th></th>\n",
       "      <th>col0</th>\n",
       "      <th>col1</th>\n",
       "      <th>col2</th>\n",
       "      <th>col3</th>\n",
       "      <th>col4</th>\n",
       "    </tr>\n",
       "  </thead>\n",
       "  <tbody>\n",
       "    <tr>\n",
       "      <th>A</th>\n",
       "      <td>-2.504616</td>\n",
       "      <td>0.088413</td>\n",
       "      <td>0.487378</td>\n",
       "      <td>-0.654826</td>\n",
       "      <td>-2.295861</td>\n",
       "    </tr>\n",
       "    <tr>\n",
       "      <th>B</th>\n",
       "      <td>-2.195823</td>\n",
       "      <td>-2.908732</td>\n",
       "      <td>0.040057</td>\n",
       "      <td>0.239471</td>\n",
       "      <td>-0.341629</td>\n",
       "    </tr>\n",
       "    <tr>\n",
       "      <th>C</th>\n",
       "      <td>1.455018</td>\n",
       "      <td>-57.146866</td>\n",
       "      <td>4.250120</td>\n",
       "      <td>0.252144</td>\n",
       "      <td>-0.664724</td>\n",
       "    </tr>\n",
       "    <tr>\n",
       "      <th>D</th>\n",
       "      <td>-4.144986</td>\n",
       "      <td>-0.476097</td>\n",
       "      <td>-2.057431</td>\n",
       "      <td>-0.132758</td>\n",
       "      <td>-2.366697</td>\n",
       "    </tr>\n",
       "    <tr>\n",
       "      <th>E</th>\n",
       "      <td>0.244692</td>\n",
       "      <td>-14.753882</td>\n",
       "      <td>-0.976617</td>\n",
       "      <td>0.823507</td>\n",
       "      <td>2.719641</td>\n",
       "    </tr>\n",
       "  </tbody>\n",
       "</table>\n",
       "</div>"
      ],
      "text/plain": [
       "       col0       col1      col2      col3      col4\n",
       "A -2.504616   0.088413  0.487378 -0.654826 -2.295861\n",
       "B -2.195823  -2.908732  0.040057  0.239471 -0.341629\n",
       "C  1.455018 -57.146866  4.250120  0.252144 -0.664724\n",
       "D -4.144986  -0.476097 -2.057431 -0.132758 -2.366697\n",
       "E  0.244692 -14.753882 -0.976617  0.823507  2.719641"
      ]
     },
     "execution_count": 98,
     "metadata": {},
     "output_type": "execute_result"
    }
   ],
   "source": [
    "# divided by df, series, value\n",
    "dfd = df.div(df2)\n",
    "dfd.head()"
   ]
  },
  {
   "cell_type": "code",
   "execution_count": 106,
   "metadata": {
    "collapsed": false
   },
   "outputs": [
    {
     "data": {
      "text/plain": [
       "(array([  1.,   0.,   1.,   4.,  42.,   2.,   0.,   1.,   0.,   1.]),\n",
       " array([-57.1468657 , -44.75082572, -32.35478574, -19.95874576,\n",
       "         -7.56270578,   4.8333342 ,  17.22937418,  29.62541416,\n",
       "         42.02145415,  54.41749413,  66.81353411]),\n",
       " <a list of 10 Patch objects>)"
      ]
     },
     "execution_count": 106,
     "metadata": {},
     "output_type": "execute_result"
    },
    {
     "data": {
      "image/png": "[encoded data removed]",
      "text/plain": [
       "<matplotlib.figure.Figure at 0x1095fc950>"
      ]
     },
     "metadata": {},
     "output_type": "display_data"
    }
   ],
   "source": [
    "fig, (ax1, ax2) = plt.subplots(ncols=2, sharey=True, figsize = (10, 5))\n",
    "ax1.hist(df['col1'])\n",
    "ax2.hist(dfd['col1'])"
   ]
  },
  {
   "cell_type": "markdown",
   "metadata": {},
   "source": [
    "Let X and Y be two independent normal distribution, Z = Y/X has a Cauchy distribution, which have a fater tail than normal distribution."
   ]
  },
  {
   "cell_type": "code",
   "execution_count": 116,
   "metadata": {
    "collapsed": false
   },
   "outputs": [
    {
     "name": "stdout",
     "output_type": "stream",
     "text": [
      "(52, 5)\n",
      "          0         1\n",
      "A -1.882513  0.540534\n",
      "B -1.661496 -1.451738\n",
      "C  3.641157  1.640795\n",
      "D  5.359110  0.653871\n",
      "E  0.394265 -5.751339\n",
      "       col0      col1      col2      col3      col4\n",
      "A -0.634575 -0.027497 -0.356007 -0.804788 -0.209633\n",
      "B -0.622843  0.879434  0.000389  0.544074 -0.054579\n",
      "C  0.800695 -0.548818 -0.267082 -0.055077 -0.153967\n",
      "D  0.888482  0.211131  0.006008 -0.104868  0.213113\n",
      "E -0.241777 -0.047372  0.408874  0.251226 -0.653364\n"
     ]
    }
   ],
   "source": [
    "print df.shape\n",
    "dfd = df.dot(np.random.randn(5,2))\n",
    "print dfd.head()\n",
    "dfm = df.mul(np.random.randn(52,5))\n",
    "print dfm.head()"
   ]
  },
  {
   "cell_type": "markdown",
   "metadata": {},
   "source": [
    "The commands df.dot and df.mul are for outer and inner products, respectively."
   ]
  },
  {
   "cell_type": "code",
   "execution_count": 117,
   "metadata": {
    "collapsed": false
   },
   "outputs": [
    {
     "name": "stdout",
     "output_type": "stream",
     "text": [
      "col0    2.782035\n",
      "col1    2.772753\n",
      "col2    1.984526\n",
      "col3    2.710410\n",
      "col4    2.349528\n",
      "dtype: float64\n"
     ]
    }
   ],
   "source": [
    "# Same for mean, median, min, sum\n",
    "print df.max()"
   ]
  },
  {
   "cell_type": "code",
   "execution_count": 133,
   "metadata": {
    "collapsed": false
   },
   "outputs": [
    {
     "data": {
      "text/html": [
       "<div>\n",
       "<table border=\"1\" class=\"dataframe\">\n",
       "  <thead>\n",
       "    <tr style=\"text-align: right;\">\n",
       "      <th></th>\n",
       "      <th>sepal length (cm)</th>\n",
       "      <th>petal length (cm)</th>\n",
       "    </tr>\n",
       "  </thead>\n",
       "  <tbody>\n",
       "    <tr>\n",
       "      <th>0</th>\n",
       "      <td>5.1</td>\n",
       "      <td>1.4</td>\n",
       "    </tr>\n",
       "    <tr>\n",
       "      <th>1</th>\n",
       "      <td>4.9</td>\n",
       "      <td>1.4</td>\n",
       "    </tr>\n",
       "    <tr>\n",
       "      <th>2</th>\n",
       "      <td>4.7</td>\n",
       "      <td>1.3</td>\n",
       "    </tr>\n",
       "    <tr>\n",
       "      <th>3</th>\n",
       "      <td>4.6</td>\n",
       "      <td>1.5</td>\n",
       "    </tr>\n",
       "    <tr>\n",
       "      <th>4</th>\n",
       "      <td>5.0</td>\n",
       "      <td>1.4</td>\n",
       "    </tr>\n",
       "  </tbody>\n",
       "</table>\n",
       "</div>"
      ],
      "text/plain": [
       "   sepal length (cm)  petal length (cm)\n",
       "0                5.1                1.4\n",
       "1                4.9                1.4\n",
       "2                4.7                1.3\n",
       "3                4.6                1.5\n",
       "4                5.0                1.4"
      ]
     },
     "execution_count": 133,
     "metadata": {},
     "output_type": "execute_result"
    }
   ],
   "source": [
    "# select column/row by name\n",
    "dff = df.filter(items = ['col0'])\n",
    "# contains 'length'\n",
    "dfl = iris_df.filter(like = 'length')\n",
    "dfl.head()\n",
    "# regular expression\n",
    "dfr = iris_df.filter(regex = 'length')\n",
    "dfr.head()"
   ]
  },
  {
   "cell_type": "code",
   "execution_count": 138,
   "metadata": {
    "collapsed": false
   },
   "outputs": [
    {
     "data": {
      "text/html": [
       "<div>\n",
       "<table border=\"1\" class=\"dataframe\">\n",
       "  <thead>\n",
       "    <tr style=\"text-align: right;\">\n",
       "      <th></th>\n",
       "      <th>sepal length (cm)</th>\n",
       "      <th>sepal width (cm)</th>\n",
       "      <th>petal length (cm)</th>\n",
       "      <th>petal width (cm)</th>\n",
       "      <th>Species</th>\n",
       "    </tr>\n",
       "  </thead>\n",
       "  <tbody>\n",
       "    <tr>\n",
       "      <th>0</th>\n",
       "      <td>5.1</td>\n",
       "      <td>3.5</td>\n",
       "      <td>1.4</td>\n",
       "      <td>0.2</td>\n",
       "      <td>setosa</td>\n",
       "    </tr>\n",
       "    <tr>\n",
       "      <th>5</th>\n",
       "      <td>5.4</td>\n",
       "      <td>3.9</td>\n",
       "      <td>1.7</td>\n",
       "      <td>0.4</td>\n",
       "      <td>setosa</td>\n",
       "    </tr>\n",
       "    <tr>\n",
       "      <th>10</th>\n",
       "      <td>5.4</td>\n",
       "      <td>3.7</td>\n",
       "      <td>1.5</td>\n",
       "      <td>0.2</td>\n",
       "      <td>setosa</td>\n",
       "    </tr>\n",
       "    <tr>\n",
       "      <th>15</th>\n",
       "      <td>5.7</td>\n",
       "      <td>4.4</td>\n",
       "      <td>1.5</td>\n",
       "      <td>0.4</td>\n",
       "      <td>setosa</td>\n",
       "    </tr>\n",
       "    <tr>\n",
       "      <th>20</th>\n",
       "      <td>5.4</td>\n",
       "      <td>3.4</td>\n",
       "      <td>1.7</td>\n",
       "      <td>0.2</td>\n",
       "      <td>setosa</td>\n",
       "    </tr>\n",
       "  </tbody>\n",
       "</table>\n",
       "</div>"
      ],
      "text/plain": [
       "    sepal length (cm)  sepal width (cm)  petal length (cm)  petal width (cm)  \\\n",
       "0                 5.1               3.5                1.4               0.2   \n",
       "5                 5.4               3.9                1.7               0.4   \n",
       "10                5.4               3.7                1.5               0.2   \n",
       "15                5.7               4.4                1.5               0.4   \n",
       "20                5.4               3.4                1.7               0.2   \n",
       "\n",
       "   Species  \n",
       "0   setosa  \n",
       "5   setosa  \n",
       "10  setosa  \n",
       "15  setosa  \n",
       "20  setosa  "
      ]
     },
     "execution_count": 138,
     "metadata": {},
     "output_type": "execute_result"
    }
   ],
   "source": [
    "# select column/row by certain criteria\n",
    "dfs = iris_df.select(crit=(lambda x: not x%5), axis = 0)\n",
    "dfs.head()"
   ]
  },
  {
   "cell_type": "markdown",
   "metadata": {},
   "source": [
    "# Working with columns"
   ]
  },
  {
   "cell_type": "code",
   "execution_count": 139,
   "metadata": {
    "collapsed": false
   },
   "outputs": [
    {
     "name": "stdout",
     "output_type": "stream",
     "text": [
      "Index([u'colA', u'col1', u'col2', u'col3', u'col4'], dtype='object')\n"
     ]
    }
   ],
   "source": [
    "dfr = df.rename(columns = {'col0': 'colA'})\n",
    "print dfr.columns"
   ]
  },
  {
   "cell_type": "code",
   "execution_count": 146,
   "metadata": {
    "collapsed": false
   },
   "outputs": [
    {
     "name": "stdout",
     "output_type": "stream",
     "text": [
      "<class 'pandas.core.series.Series'>\n",
      "<class 'pandas.core.frame.DataFrame'>\n",
      "<class 'pandas.core.series.Series'>\n"
     ]
    }
   ],
   "source": [
    "print type(df['col0'])\n",
    "print type(df[['col0']])\n",
    "print type(df.col0)"
   ]
  },
  {
   "cell_type": "code",
   "execution_count": 179,
   "metadata": {
    "collapsed": false
   },
   "outputs": [
    {
     "name": "stdout",
     "output_type": "stream",
     "text": [
      "       col0      col1\n",
      "0  0.417564 -0.604012\n",
      "1  0.574180  0.574180\n",
      "2  1.258043  0.051883\n",
      "3  0.587322 -1.775280\n",
      "       col0      col1\n",
      "0  0.417564 -0.604012\n",
      "1  0.574180  0.574180\n",
      "2  1.258043  0.051883\n",
      "1\n"
     ]
    }
   ],
   "source": [
    "print df.loc[:3,'col0':'col2']\n",
    "print df.iloc[:3, 0:2]\n",
    "print df.columns.get_loc('col1')"
   ]
  },
  {
   "cell_type": "code",
   "execution_count": 157,
   "metadata": {
    "collapsed": false
   },
   "outputs": [
    {
     "name": "stdout",
     "output_type": "stream",
     "text": [
      "Index([u'col0', u'col1', u'col2', u'col4'], dtype='object')\n",
      "<class 'pandas.core.series.Series'>\n",
      "Index([u'col0', u'col1', u'col2', u'col4'], dtype='object')\n",
      "Index([u'col0', u'col1', u'col4'], dtype='object')\n",
      "Index([u'col0', u'col1', u'col4'], dtype='object')\n",
      "Index([u'col0', u'col1'], dtype='object')\n"
     ]
    }
   ],
   "source": [
    "# pop out the col as series out of df\n",
    "df = pd.DataFrame(np.random.randn(52, 5), columns = ['col' + str(i) for i in range(5)])\n",
    "s4 = df.pop(df.columns[3])\n",
    "print df.columns\n",
    "print type(s4)\n",
    "df2 = df.drop('col2', axis = 1)\n",
    "print df.columns\n",
    "print df2.columns\n",
    "df.drop('col2', axis = 1, inplace=True)\n",
    "print df.columns\n",
    "del df['col4']\n",
    "print df.columns"
   ]
  },
  {
   "cell_type": "code",
   "execution_count": 148,
   "metadata": {
    "collapsed": false
   },
   "outputs": [
    {
     "data": {
      "text/html": [
       "<div>\n",
       "<table border=\"1\" class=\"dataframe\">\n",
       "  <thead>\n",
       "    <tr style=\"text-align: right;\">\n",
       "      <th></th>\n",
       "      <th>col0</th>\n",
       "      <th>col1</th>\n",
       "      <th>col2</th>\n",
       "      <th>col_new</th>\n",
       "    </tr>\n",
       "  </thead>\n",
       "  <tbody>\n",
       "    <tr>\n",
       "      <th>A</th>\n",
       "      <td>-0.897342</td>\n",
       "      <td>-0.130982</td>\n",
       "      <td>-0.553850</td>\n",
       "      <td>0.117536</td>\n",
       "    </tr>\n",
       "    <tr>\n",
       "      <th>B</th>\n",
       "      <td>-0.887268</td>\n",
       "      <td>0.704123</td>\n",
       "      <td>0.041988</td>\n",
       "      <td>-0.624746</td>\n",
       "    </tr>\n",
       "    <tr>\n",
       "      <th>C</th>\n",
       "      <td>1.009183</td>\n",
       "      <td>0.886417</td>\n",
       "      <td>1.083065</td>\n",
       "      <td>0.894556</td>\n",
       "    </tr>\n",
       "    <tr>\n",
       "      <th>D</th>\n",
       "      <td>1.680157</td>\n",
       "      <td>0.282140</td>\n",
       "      <td>1.186019</td>\n",
       "      <td>0.474039</td>\n",
       "    </tr>\n",
       "    <tr>\n",
       "      <th>E</th>\n",
       "      <td>-0.288367</td>\n",
       "      <td>-0.162281</td>\n",
       "      <td>1.690019</td>\n",
       "      <td>0.046797</td>\n",
       "    </tr>\n",
       "  </tbody>\n",
       "</table>\n",
       "</div>"
      ],
      "text/plain": [
       "       col0      col1      col2   col_new\n",
       "A -0.897342 -0.130982 -0.553850  0.117536\n",
       "B -0.887268  0.704123  0.041988 -0.624746\n",
       "C  1.009183  0.886417  1.083065  0.894556\n",
       "D  1.680157  0.282140  1.186019  0.474039\n",
       "E -0.288367 -0.162281  1.690019  0.046797"
      ]
     },
     "execution_count": 148,
     "metadata": {},
     "output_type": "execute_result"
    }
   ],
   "source": [
    "df['col_new'] = df.col0 * df.col1\n",
    "df.head()"
   ]
  },
  {
   "cell_type": "code",
   "execution_count": 149,
   "metadata": {
    "collapsed": false
   },
   "outputs": [
    {
     "data": {
      "text/html": [
       "<div>\n",
       "<table border=\"1\" class=\"dataframe\">\n",
       "  <thead>\n",
       "    <tr style=\"text-align: right;\">\n",
       "      <th></th>\n",
       "      <th>col0</th>\n",
       "      <th>col1</th>\n",
       "      <th>col2</th>\n",
       "      <th>col_new</th>\n",
       "      <th>col_na</th>\n",
       "    </tr>\n",
       "  </thead>\n",
       "  <tbody>\n",
       "    <tr>\n",
       "      <th>A</th>\n",
       "      <td>-0.897342</td>\n",
       "      <td>-0.130982</td>\n",
       "      <td>-0.553850</td>\n",
       "      <td>0.117536</td>\n",
       "      <td>NaN</td>\n",
       "    </tr>\n",
       "    <tr>\n",
       "      <th>B</th>\n",
       "      <td>-0.887268</td>\n",
       "      <td>0.704123</td>\n",
       "      <td>0.041988</td>\n",
       "      <td>-0.624746</td>\n",
       "      <td>NaN</td>\n",
       "    </tr>\n",
       "    <tr>\n",
       "      <th>C</th>\n",
       "      <td>1.009183</td>\n",
       "      <td>0.886417</td>\n",
       "      <td>1.083065</td>\n",
       "      <td>0.894556</td>\n",
       "      <td>NaN</td>\n",
       "    </tr>\n",
       "    <tr>\n",
       "      <th>D</th>\n",
       "      <td>1.680157</td>\n",
       "      <td>0.282140</td>\n",
       "      <td>1.186019</td>\n",
       "      <td>0.474039</td>\n",
       "      <td>NaN</td>\n",
       "    </tr>\n",
       "    <tr>\n",
       "      <th>E</th>\n",
       "      <td>-0.288367</td>\n",
       "      <td>-0.162281</td>\n",
       "      <td>1.690019</td>\n",
       "      <td>0.046797</td>\n",
       "      <td>NaN</td>\n",
       "    </tr>\n",
       "  </tbody>\n",
       "</table>\n",
       "</div>"
      ],
      "text/plain": [
       "       col0      col1      col2   col_new  col_na\n",
       "A -0.897342 -0.130982 -0.553850  0.117536     NaN\n",
       "B -0.887268  0.704123  0.041988 -0.624746     NaN\n",
       "C  1.009183  0.886417  1.083065  0.894556     NaN\n",
       "D  1.680157  0.282140  1.186019  0.474039     NaN\n",
       "E -0.288367 -0.162281  1.690019  0.046797     NaN"
      ]
     },
     "execution_count": 149,
     "metadata": {},
     "output_type": "execute_result"
    }
   ],
   "source": [
    "df['col_na'] = np.repeat(np.nan, len(df))\n",
    "df.head()"
   ]
  },
  {
   "cell_type": "code",
   "execution_count": 160,
   "metadata": {
    "collapsed": false
   },
   "outputs": [
    {
     "data": {
      "text/html": [
       "<div>\n",
       "<table border=\"1\" class=\"dataframe\">\n",
       "  <thead>\n",
       "    <tr style=\"text-align: right;\">\n",
       "      <th></th>\n",
       "      <th>col0</th>\n",
       "      <th>col1</th>\n",
       "    </tr>\n",
       "  </thead>\n",
       "  <tbody>\n",
       "    <tr>\n",
       "      <th>0</th>\n",
       "      <td>0.417564</td>\n",
       "      <td>-0.604012</td>\n",
       "    </tr>\n",
       "    <tr>\n",
       "      <th>1</th>\n",
       "      <td>0.574180</td>\n",
       "      <td>0.574180</td>\n",
       "    </tr>\n",
       "    <tr>\n",
       "      <th>2</th>\n",
       "      <td>1.258043</td>\n",
       "      <td>0.051883</td>\n",
       "    </tr>\n",
       "    <tr>\n",
       "      <th>3</th>\n",
       "      <td>0.587322</td>\n",
       "      <td>-1.775280</td>\n",
       "    </tr>\n",
       "    <tr>\n",
       "      <th>4</th>\n",
       "      <td>1.547841</td>\n",
       "      <td>0.849281</td>\n",
       "    </tr>\n",
       "  </tbody>\n",
       "</table>\n",
       "</div>"
      ],
      "text/plain": [
       "       col0      col1\n",
       "0  0.417564 -0.604012\n",
       "1  0.574180  0.574180\n",
       "2  1.258043  0.051883\n",
       "3  0.587322 -1.775280\n",
       "4  1.547841  0.849281"
      ]
     },
     "execution_count": 160,
     "metadata": {},
     "output_type": "execute_result"
    }
   ],
   "source": [
    "df['col0'] = df['col0'].where(df['col0'] > 0, other = 0)\n",
    "df.head()\n",
    "df['col0'] = df['col0'].where(df.col0 > 0, other = df.col1)\n",
    "df.head()"
   ]
  },
  {
   "cell_type": "code",
   "execution_count": 171,
   "metadata": {
    "collapsed": false
   },
   "outputs": [
    {
     "name": "stdout",
     "output_type": "stream",
     "text": [
      "-1.66666666667\n",
      "-1.0\n"
     ]
    }
   ],
   "source": [
    "#np.log, np.round, np.sqrt\n",
    "df0 = pd.DataFrame({'A':[i for i in range(4)], 'B':[-i + 8 for i in range(4)]})\n",
    "print df0.A.cov(df0.B)\n",
    "print df0.A.corr(df0.B)"
   ]
  },
  {
   "cell_type": "code",
   "execution_count": 173,
   "metadata": {
    "collapsed": false
   },
   "outputs": [
    {
     "name": "stdout",
     "output_type": "stream",
     "text": [
      "setosa        50\n",
      "versicolor    50\n",
      "virginica     50\n",
      "Name: Species, dtype: int64\n"
     ]
    }
   ],
   "source": [
    "#count() is non-NA count\n",
    "print iris_df.Species.value_counts()"
   ]
  },
  {
   "cell_type": "code",
   "execution_count": 174,
   "metadata": {
    "collapsed": false
   },
   "outputs": [
    {
     "name": "stdout",
     "output_type": "stream",
     "text": [
      "0\n",
      "3\n",
      "0    4\n",
      "1    3\n",
      "2    2\n",
      "3    1\n",
      "Name: B, dtype: float64\n"
     ]
    }
   ],
   "source": [
    "print df0.A.idxmin()\n",
    "print df0.A.idxmax()\n",
    "print df0.B.rank()"
   ]
  },
  {
   "cell_type": "code",
   "execution_count": 187,
   "metadata": {
    "collapsed": false
   },
   "outputs": [
    {
     "name": "stdout",
     "output_type": "stream",
     "text": [
      "       A      B\n",
      "0  False  False\n",
      "1  False  False\n",
      "2  False  False\n",
      "3  False  False\n",
      "    A   B\n",
      "0 NaN NaN\n",
      "1   0   8\n",
      "2   1   7\n",
      "3   2   6\n",
      "       col0      col1\n",
      "0       NaN       NaN\n",
      "1       NaN       NaN\n",
      "2       NaN       NaN\n",
      "3       NaN       NaN\n",
      "4  2.706837 -2.406067\n"
     ]
    }
   ],
   "source": [
    "# element-wise method\n",
    "print df0.isnull()\n",
    "#notnull\n",
    "#astype()\n",
    "#diff(periods)\n",
    "print df0.shift(periods = 1)\n",
    "#to_datatime\n",
    "#fillna(0) with zero\n",
    "#cumsum()\n",
    "#cumprod()\n",
    "dfp = df.pct_change(periods=4)\n",
    "print dfp.head()\n",
    "#dfr = df.rolling_sum(periods = 4, window = 2)\n",
    "#print dfr.head()\n"
   ]
  },
  {
   "cell_type": "code",
   "execution_count": null,
   "metadata": {
    "collapsed": true
   },
   "outputs": [],
   "source": []
  }
 ],
 "metadata": {
  "kernelspec": {
   "display_name": "Python 2",
   "language": "python",
   "name": "python2"
  },
  "language_info": {
   "codemirror_mode": {
    "name": "ipython",
    "version": 2
   },
   "file_extension": ".py",
   "mimetype": "text/x-python",
   "name": "python",
   "nbconvert_exporter": "python",
   "pygments_lexer": "ipython2",
   "version": "2.7.11"
  }
 },
 "nbformat": 4,
 "nbformat_minor": 0
}
